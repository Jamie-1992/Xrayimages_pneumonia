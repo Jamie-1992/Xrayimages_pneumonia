{
 "cells": [
  {
   "cell_type": "markdown",
   "metadata": {},
   "source": [
    "# Chest x-ray data set (Pneumonia)"
   ]
  },
  {
   "cell_type": "markdown",
   "metadata": {},
   "source": [
    "## Augmenting 700 images for normal class from training set"
   ]
  },
  {
   "cell_type": "code",
   "execution_count": 1,
   "metadata": {},
   "outputs": [],
   "source": [
    "import matplotlib.pyplot as plt \n",
    "import numpy as np\n",
    "import os \n",
    "import random \n",
    "import tensorflow as tf\n",
    "from tensorflow import keras\n",
    "from tensorflow.keras.preprocessing.image import ImageDataGenerator\n",
    "%matplotlib inline\n"
   ]
  },
  {
   "cell_type": "code",
   "execution_count": 2,
   "metadata": {},
   "outputs": [],
   "source": [
    "#Note: I split NORMAL Images into another directory so I could use imagedatagenerator.flow_from_directory (needs two classes)\n",
    "#copied and pasted ~ half of images into another folder. \n",
    "#Augmented images will be copied into NORMAL folder which is before the split I did\n",
    "\n",
    "train_path = 'C:\\\\Users\\\\jamie\\\\jupyter notebooks\\\\Chest_Xrays2\\\\chest_xray\\\\train\\\\Norm'\n",
    "\n",
    "gen = ImageDataGenerator(rotation_range = 10, width_shift_range = 0.1,\n",
    "                        height_shift_range=0.1, shear_range=0.15, zoom_range = 0.1,\n",
    "                        channel_shift_range=10., horizontal_flip = True)"
   ]
  },
  {
   "cell_type": "code",
   "execution_count": 5,
   "metadata": {},
   "outputs": [
    {
     "name": "stdout",
     "output_type": "stream",
     "text": [
      "Found 1341 images belonging to 2 classes.\n"
     ]
    }
   ],
   "source": [
    "#flow_from_directory batch size default is 32. batch size will say how many samples to augment. I will agument 700\n",
    "# I did 700 batches and 1 iterations for the images so 700*1 = 700. this makes sure I get 1 augmented image for the first\n",
    "# 700 samples\n",
    "\n",
    "aug_iter = gen.flow_from_directory(directory=train_path, target_size = (224,224), save_to_dir = 'C:\\\\Users\\\\jamie\\\\jupyter notebooks\\\\Chest_Xrays2\\\\chest_xray\\\\train\\\\Norm',save_prefix ='aug-image-', save_format = 'JPEG', batch_size = 700, color_mode = 'grayscale')\n",
    "\n",
    "aug_images = [next(aug_iter)[0].astype(np.uint8) for i in range (1)]\n"
   ]
  },
  {
   "cell_type": "markdown",
   "metadata": {},
   "source": [
    "## Resampling 3000 images from Pneumonia in the training set"
   ]
  },
  {
   "cell_type": "code",
   "execution_count": 6,
   "metadata": {},
   "outputs": [],
   "source": [
    "# Creating a new directory for the Pneumonia class to resample 3000 images from ~ 3875. undersampling so the class imbalance\n",
    "# is reduced between pneumonia and normal images\n",
    "# all pneumonia images have person in the filename so glob.glob will patern match it\n",
    "#shutil takes two arguments, source and destination \n",
    "\n",
    "import os\n",
    "import glob\n",
    "import random\n",
    "import shutil\n",
    "\n",
    "os.chdir(\"C:\\\\Users\\\\jamie\\\\jupyter notebooks\\\\Chest_Xrays2\\\\chest_xray\\\\train\\\\PNEUMONIA\")\n",
    "if os.path.isdir('train\\\\Pneumonia_new') is False:\n",
    "    os.makedirs('train\\\\Pneumonia_new')\n",
    "    \n",
    "    for image in random.sample(glob.glob('person*'), 3000):\n",
    "        shutil.move(image, 'train\\\\Pneumonia_new')"
   ]
  },
  {
   "cell_type": "markdown",
   "metadata": {},
   "source": [
    "## Sampling images from training set and placing into validation set (Normal)"
   ]
  },
  {
   "cell_type": "code",
   "execution_count": 7,
   "metadata": {},
   "outputs": [],
   "source": [
    "#Note. the files were divided with 3 different names. Norm, Image and augmented.\n",
    "\n",
    "os.chdir('C:\\\\Users\\\\jamie\\\\jupyter notebooks\\\\Chest_Xrays2\\\\chest_xray\\\\train\\\\Norm')\n",
    "if os.path.isdir('valid\\\\normal')is False: \n",
    "    os.makedirs('valid\\\\normal')\n",
    "    \n",
    "    for image in random.sample(glob.glob('Norm*'),150):\n",
    "        shutil.move(image, 'valid\\\\normal')\n",
    "    for image in random.sample(glob.glob('aug*'),150):\n",
    "        shutil.move(image, 'valid\\\\normal')\n",
    "    for image in random.sample(glob.glob('IM*'),200):\n",
    "        shutil.move(image, 'valid\\\\normal')"
   ]
  },
  {
   "cell_type": "markdown",
   "metadata": {},
   "source": [
    "## Sampling images from training set and placing into validation set (pneumonia)"
   ]
  },
  {
   "cell_type": "code",
   "execution_count": 8,
   "metadata": {},
   "outputs": [],
   "source": [
    "os.chdir('C:\\\\Users\\\\jamie\\\\jupyter notebooks\\\\Chest_Xrays2\\\\chest_xray\\\\train\\\\Pneumonia')\n",
    "if os.path.isdir('valid\\\\pneumonia')is False: \n",
    "    os.makedirs('valid\\\\pneumonia')\n",
    "    \n",
    "    for image in random.sample(glob.glob('Person*'),750):\n",
    "        shutil.move(image, 'valid\\\\pneumonia')\n",
    "    "
   ]
  },
  {
   "cell_type": "markdown",
   "metadata": {},
   "source": [
    "# Preparing data "
   ]
  },
  {
   "cell_type": "code",
   "execution_count": 1,
   "metadata": {},
   "outputs": [],
   "source": [
    "import numpy as np\n",
    "import tensorflow as tf\n",
    "from tensorflow import keras\n",
    "from tensorflow.keras.models import Sequential \n",
    "from tensorflow.keras.layers import Activation, Dense, Flatten, BatchNormalization, Conv2D, MaxPool2D\n",
    "from tensorflow.keras.optimizers import Adam\n",
    "from tensorflow.keras.metrics import categorical_crossentropy\n",
    "from tensorflow.keras.preprocessing.image import ImageDataGenerator\n",
    "from sklearn.metrics import confusion_matrix\n",
    "import itertools \n",
    "import os\n",
    "import shutil\n",
    "import random\n",
    "import glob\n",
    "import matplotlib.pyplot as plt\n",
    "import warnings\n",
    "warnings.simplefilter(action = 'ignore', category=FutureWarning)\n",
    "%matplotlib inline"
   ]
  },
  {
   "cell_type": "code",
   "execution_count": 2,
   "metadata": {},
   "outputs": [],
   "source": [
    "#Creating a variable path for train, valid and test sets \n",
    "\n",
    "train_path = 'C:\\\\Users\\\\jamie\\\\jupyter notebooks\\\\Chest_Xrays2\\\\chest_xray\\\\train'\n",
    "\n",
    "valid_path = 'C:\\\\Users\\\\jamie\\\\jupyter notebooks\\\\Chest_Xrays2\\\\chest_xray\\\\valid'\n",
    "\n",
    "test_path = 'C:\\\\Users\\\\jamie\\\\jupyter notebooks\\\\Chest_Xrays2\\\\chest_xray\\\\test'\n"
   ]
  },
  {
   "cell_type": "code",
   "execution_count": 3,
   "metadata": {},
   "outputs": [
    {
     "name": "stdout",
     "output_type": "stream",
     "text": [
      "Found 3791 images belonging to 2 classes.\n",
      "Found 1250 images belonging to 2 classes.\n",
      "Found 624 images belonging to 2 classes.\n"
     ]
    }
   ],
   "source": [
    "#set test_batches unshuffle to false since we want to access unshuffled labels later\n",
    "\n",
    "#I used color_mode param here.\n",
    "\n",
    "#Note: I was having a hard time intially getting things to work. vgg16.preprocess_input was trained with RGB images\n",
    "#with 3 channels. I have gray images so the preprocessing function was messing it up since it wasn't designed for 1 input\n",
    "\n",
    "train_batches = ImageDataGenerator()\\\n",
    ".flow_from_directory(directory = train_path, target_size = (224,224), classes = ['normal', 'pneumonia'], batch_size = 10, color_mode = 'grayscale')\n",
    "\n",
    "valid_batches = ImageDataGenerator()\\\n",
    ".flow_from_directory(directory = valid_path, target_size = (224,224), classes = ['normal', 'pneumonia'], batch_size = 10, color_mode = 'grayscale')\n",
    "\n",
    "test_batches = ImageDataGenerator()\\\n",
    ".flow_from_directory(directory = test_path, target_size = (224,224), classes = ['normal', 'pneumonia'], batch_size = 10, shuffle = False, color_mode = 'grayscale')\n",
    "\n"
   ]
  },
  {
   "cell_type": "markdown",
   "metadata": {},
   "source": [
    "# Building and training a CNN"
   ]
  },
  {
   "cell_type": "code",
   "execution_count": 6,
   "metadata": {},
   "outputs": [],
   "source": [
    "#input shape 1 on last dimension due to gray images. RGB have 3 channels\n",
    "\n",
    "model = Sequential([\n",
    "    Conv2D(filters = 32, kernel_size = (3,3), activation = 'relu', padding = 'same', input_shape = (224,224,1)),\n",
    "    MaxPool2D(pool_size = (2,2), strides = 2),\n",
    "    Conv2D(filters = 64, kernel_size = (3,3), activation = 'relu', padding = 'same'),\n",
    "    MaxPool2D(pool_size = (2,2), strides = 2),\n",
    "    Flatten(),\n",
    "    Dense(units = 2, activation = 'softmax'),\n",
    "    \n",
    "])"
   ]
  },
  {
   "cell_type": "code",
   "execution_count": 7,
   "metadata": {},
   "outputs": [
    {
     "name": "stdout",
     "output_type": "stream",
     "text": [
      "Model: \"sequential_1\"\n",
      "_________________________________________________________________\n",
      "Layer (type)                 Output Shape              Param #   \n",
      "=================================================================\n",
      "conv2d_2 (Conv2D)            (None, 224, 224, 32)      320       \n",
      "_________________________________________________________________\n",
      "max_pooling2d_2 (MaxPooling2 (None, 112, 112, 32)      0         \n",
      "_________________________________________________________________\n",
      "conv2d_3 (Conv2D)            (None, 112, 112, 64)      18496     \n",
      "_________________________________________________________________\n",
      "max_pooling2d_3 (MaxPooling2 (None, 56, 56, 64)        0         \n",
      "_________________________________________________________________\n",
      "flatten_1 (Flatten)          (None, 200704)            0         \n",
      "_________________________________________________________________\n",
      "dense_1 (Dense)              (None, 2)                 401410    \n",
      "=================================================================\n",
      "Total params: 420,226\n",
      "Trainable params: 420,226\n",
      "Non-trainable params: 0\n",
      "_________________________________________________________________\n"
     ]
    }
   ],
   "source": [
    "model.summary()"
   ]
  },
  {
   "cell_type": "code",
   "execution_count": 19,
   "metadata": {},
   "outputs": [],
   "source": [
    "model.compile(optimizer = Adam(lr = 0.0001), loss = 'categorical_crossentropy', metrics = ['accuracy'])"
   ]
  },
  {
   "cell_type": "code",
   "execution_count": 9,
   "metadata": {},
   "outputs": [
    {
     "name": "stdout",
     "output_type": "stream",
     "text": [
      "Epoch 1/10\n",
      "380/380 - 328s - loss: 1.5690 - accuracy: 0.8826 - val_loss: 1.3217 - val_accuracy: 0.8008\n",
      "Epoch 2/10\n",
      "380/380 - 171s - loss: 0.1544 - accuracy: 0.9657 - val_loss: 0.2542 - val_accuracy: 0.9560\n",
      "Epoch 3/10\n",
      "380/380 - 171s - loss: 0.0463 - accuracy: 0.9839 - val_loss: 0.2082 - val_accuracy: 0.9584\n",
      "Epoch 4/10\n",
      "380/380 - 181s - loss: 0.0214 - accuracy: 0.9929 - val_loss: 0.1888 - val_accuracy: 0.9576\n",
      "Epoch 5/10\n",
      "380/380 - 184s - loss: 0.0076 - accuracy: 0.9966 - val_loss: 0.1961 - val_accuracy: 0.9640\n",
      "Epoch 6/10\n",
      "380/380 - 184s - loss: 0.0034 - accuracy: 0.9989 - val_loss: 0.2073 - val_accuracy: 0.9672\n",
      "Epoch 7/10\n",
      "380/380 - 183s - loss: 4.9647e-04 - accuracy: 1.0000 - val_loss: 0.2017 - val_accuracy: 0.9672\n",
      "Epoch 8/10\n",
      "380/380 - 189s - loss: 1.6033e-04 - accuracy: 1.0000 - val_loss: 0.2088 - val_accuracy: 0.9664\n",
      "Epoch 9/10\n",
      "380/380 - 183s - loss: 1.1352e-04 - accuracy: 1.0000 - val_loss: 0.2126 - val_accuracy: 0.9664\n",
      "Epoch 10/10\n",
      "380/380 - 182s - loss: 8.0727e-05 - accuracy: 1.0000 - val_loss: 0.2156 - val_accuracy: 0.9664\n"
     ]
    },
    {
     "data": {
      "text/plain": [
       "<tensorflow.python.keras.callbacks.History at 0x1d52a2c33a0>"
      ]
     },
     "execution_count": 9,
     "metadata": {},
     "output_type": "execute_result"
    }
   ],
   "source": [
    "#we don't specify y in the model.fit because train_batches is stored as a generator and contains\n",
    "#corresponding labels.\n",
    "\n",
    "model.fit(x= train_batches, validation_data = valid_batches, epochs = 10, verbose = 2)"
   ]
  },
  {
   "cell_type": "markdown",
   "metadata": {},
   "source": [
    "# Predicting "
   ]
  },
  {
   "cell_type": "code",
   "execution_count": 10,
   "metadata": {},
   "outputs": [],
   "source": [
    "predictions = model.predict(x = test_batches, verbose = 0)"
   ]
  },
  {
   "cell_type": "code",
   "execution_count": 11,
   "metadata": {},
   "outputs": [
    {
     "data": {
      "text/plain": [
       "array([[1., 0.],\n",
       "       [0., 1.],\n",
       "       [0., 1.],\n",
       "       ...,\n",
       "       [0., 1.],\n",
       "       [0., 1.],\n",
       "       [0., 1.]], dtype=float32)"
      ]
     },
     "execution_count": 11,
     "metadata": {},
     "output_type": "execute_result"
    }
   ],
   "source": [
    "np.round(predictions) \n",
    "#first sample here has higher probability of being normal (healthy) whereas second sample has \n",
    "# higher probability of having pneumonia"
   ]
  },
  {
   "cell_type": "code",
   "execution_count": 12,
   "metadata": {},
   "outputs": [],
   "source": [
    "#creating confusion matrix\n",
    "\n",
    "cm = confusion_matrix(y_true = test_batches.classes, y_pred = np.argmax(predictions, axis = -1))\n",
    "\n",
    "# from scikit-learn (copied straight)\n",
    "\n",
    "def plot_confusion_matrix(cm,classes, normalize=False, title = 'Confusion matrix', cmap=plt.cm.Blues):\n",
    "    \"\"\"\n",
    "    This function prints and plots the confusion matrix.\n",
    "    Normalization can be applied by setting 'normalize = True'\n",
    "   \n",
    "   \"\"\"\n",
    "    plt.imshow(cm, interpolation='nearest', cmap = cmap)\n",
    "    plt.title(title)\n",
    "    plt.colorbar()\n",
    "    tick_marks = np.arange(len(classes))\n",
    "    plt.xticks(tick_marks, classes, rotation = 45)\n",
    "    plt.yticks(tick_marks, classes)\n",
    "    \n",
    "    if normalize:\n",
    "        cm = cm.astype('float')/cm.sum(axis=1)[:, np.newaxis]\n",
    "        print(\"Normalized confusion matrix\")\n",
    "    else:\n",
    "        print('Confusion matrix, without normalization')\n",
    "        \n",
    "    print(cm)\n",
    "    \n",
    "    thresh = cm.max()/2.\n",
    "    for i,j in itertools.product(range(cm.shape[0]), range(cm.shape[1])):\n",
    "        plt.text(j,i,cm[i,j],\n",
    "                horizontalalignment='center',\n",
    "                color='white' if cm[i,j]> thresh else 'black')\n",
    "    plt.tight_layout()\n",
    "    plt.ylabel('True label')\n",
    "    plt.xlabel('Predicted label')"
   ]
  },
  {
   "cell_type": "code",
   "execution_count": 13,
   "metadata": {},
   "outputs": [
    {
     "name": "stdout",
     "output_type": "stream",
     "text": [
      "Confusion matrix, without normalization\n",
      "[[102 132]\n",
      " [ 11 379]]\n"
     ]
    },
    {
     "data": {
      "image/png": "[encoded data removed]",
      "text/plain": [
       "<Figure size 432x288 with 2 Axes>"
      ]
     },
     "metadata": {
      "needs_background": "light"
     },
     "output_type": "display_data"
    }
   ],
   "source": [
    "test_batches.class_indices\n",
    "\n",
    "#since we know normal = 0 and pneumonia = 1, we will create confusion matrix labels\n",
    "\n",
    "cm_labels = ['normal', 'pneumonia']\n",
    "plot_confusion_matrix(cm = cm, classes = cm_labels, title = 'Confusion Matrix')\n",
    "\n",
    "#accuracy on test set was 77% "
   ]
  },
  {
   "cell_type": "markdown",
   "metadata": {},
   "source": [
    "# Second CNN model"
   ]
  },
  {
   "cell_type": "code",
   "execution_count": 16,
   "metadata": {},
   "outputs": [],
   "source": [
    "model2 = Sequential([\n",
    "    Conv2D(filters = 32, kernel_size = (3,3), activation = 'relu', padding = 'same', input_shape = (224,224,1)),\n",
    "    MaxPool2D(pool_size = (2,2), strides = 2),\n",
    "    Conv2D(filters = 64, kernel_size = (3,3), activation = 'relu', padding = 'same'),\n",
    "    MaxPool2D(pool_size = (2,2), strides = 2),\n",
    "    Conv2D(filters = 96, kernel_size = (3,3), activation = 'relu', padding = 'same'),\n",
    "    MaxPool2D(pool_size = (2,2), strides =2),\n",
    "    Flatten(),\n",
    "    Dense(units = 2, activation = 'softmax'),\n",
    "    \n",
    "])"
   ]
  },
  {
   "cell_type": "code",
   "execution_count": 22,
   "metadata": {},
   "outputs": [
    {
     "name": "stdout",
     "output_type": "stream",
     "text": [
      "Model: \"sequential_2\"\n",
      "_________________________________________________________________\n",
      "Layer (type)                 Output Shape              Param #   \n",
      "=================================================================\n",
      "conv2d_6 (Conv2D)            (None, 224, 224, 32)      320       \n",
      "_________________________________________________________________\n",
      "max_pooling2d_6 (MaxPooling2 (None, 112, 112, 32)      0         \n",
      "_________________________________________________________________\n",
      "conv2d_7 (Conv2D)            (None, 112, 112, 64)      18496     \n",
      "_________________________________________________________________\n",
      "max_pooling2d_7 (MaxPooling2 (None, 56, 56, 64)        0         \n",
      "_________________________________________________________________\n",
      "conv2d_8 (Conv2D)            (None, 56, 56, 96)        55392     \n",
      "_________________________________________________________________\n",
      "max_pooling2d_8 (MaxPooling2 (None, 28, 28, 96)        0         \n",
      "_________________________________________________________________\n",
      "flatten_2 (Flatten)          (None, 75264)             0         \n",
      "_________________________________________________________________\n",
      "dense_2 (Dense)              (None, 2)                 150530    \n",
      "=================================================================\n",
      "Total params: 224,738\n",
      "Trainable params: 224,738\n",
      "Non-trainable params: 0\n",
      "_________________________________________________________________\n"
     ]
    }
   ],
   "source": [
    "model2.compile(optimizer = Adam(lr = 0.001), loss = 'categorical_crossentropy', metrics = ['accuracy'])\n",
    "model2.summary()"
   ]
  },
  {
   "cell_type": "code",
   "execution_count": 21,
   "metadata": {},
   "outputs": [
    {
     "name": "stdout",
     "output_type": "stream",
     "text": [
      "Epoch 1/15\n",
      "380/380 - 225s - loss: 4.5734 - accuracy: 0.8354 - val_loss: 0.2159 - val_accuracy: 0.9136\n",
      "Epoch 2/15\n",
      "380/380 - 228s - loss: 0.1642 - accuracy: 0.9377 - val_loss: 0.1941 - val_accuracy: 0.9272\n",
      "Epoch 3/15\n",
      "380/380 - 227s - loss: 0.2415 - accuracy: 0.9040 - val_loss: 0.2896 - val_accuracy: 0.8768\n",
      "Epoch 4/15\n",
      "380/380 - 239s - loss: 0.2082 - accuracy: 0.9209 - val_loss: 0.2797 - val_accuracy: 0.8968\n",
      "Epoch 5/15\n",
      "380/380 - 234s - loss: 0.1759 - accuracy: 0.9367 - val_loss: 0.2831 - val_accuracy: 0.9040\n",
      "Epoch 6/15\n",
      "380/380 - 228s - loss: 0.1359 - accuracy: 0.9459 - val_loss: 0.3684 - val_accuracy: 0.8776\n",
      "Epoch 7/15\n",
      "380/380 - 225s - loss: 0.1097 - accuracy: 0.9612 - val_loss: 0.2426 - val_accuracy: 0.9424\n",
      "Epoch 8/15\n",
      "380/380 - 229s - loss: 0.1005 - accuracy: 0.9620 - val_loss: 0.2381 - val_accuracy: 0.9416\n",
      "Epoch 9/15\n",
      "380/380 - 240s - loss: 0.0779 - accuracy: 0.9707 - val_loss: 0.4032 - val_accuracy: 0.9056\n",
      "Epoch 10/15\n",
      "380/380 - 242s - loss: 0.0960 - accuracy: 0.9707 - val_loss: 0.4810 - val_accuracy: 0.8864\n",
      "Epoch 11/15\n",
      "380/380 - 237s - loss: 0.1864 - accuracy: 0.9428 - val_loss: 0.4069 - val_accuracy: 0.8848\n",
      "Epoch 12/15\n",
      "380/380 - 235s - loss: 0.1006 - accuracy: 0.9647 - val_loss: 0.3055 - val_accuracy: 0.9320\n",
      "Epoch 13/15\n",
      "380/380 - 227s - loss: 0.0982 - accuracy: 0.9676 - val_loss: 0.4283 - val_accuracy: 0.9024\n",
      "Epoch 14/15\n",
      "380/380 - 229s - loss: 0.0790 - accuracy: 0.9773 - val_loss: 0.4580 - val_accuracy: 0.9248\n",
      "Epoch 15/15\n",
      "380/380 - 228s - loss: 0.1494 - accuracy: 0.9625 - val_loss: 0.5259 - val_accuracy: 0.9176\n"
     ]
    },
    {
     "data": {
      "text/plain": [
       "<tensorflow.python.keras.callbacks.History at 0x1d52becd6d0>"
      ]
     },
     "execution_count": 21,
     "metadata": {},
     "output_type": "execute_result"
    }
   ],
   "source": [
    "model2.fit(x= train_batches, validation_data = valid_batches, epochs = 15, verbose = 2)"
   ]
  },
  {
   "cell_type": "markdown",
   "metadata": {},
   "source": [
    "# Predicting model 2"
   ]
  },
  {
   "cell_type": "code",
   "execution_count": 24,
   "metadata": {},
   "outputs": [
    {
     "name": "stdout",
     "output_type": "stream",
     "text": [
      "Confusion matrix, without normalization\n",
      "[[112 122]\n",
      " [ 30 360]]\n"
     ]
    },
    {
     "data": {
      "text/plain": [
       "0.7564102564102564"
      ]
     },
     "execution_count": 24,
     "metadata": {},
     "output_type": "execute_result"
    },
    {
     "data": {
      "image/png": "[encoded data removed]",
      "text/plain": [
       "<Figure size 432x288 with 2 Axes>"
      ]
     },
     "metadata": {
      "needs_background": "light"
     },
     "output_type": "display_data"
    }
   ],
   "source": [
    "predictions2 = model2.predict(x = test_batches, verbose = 0)\n",
    "cm2 = confusion_matrix(y_true = test_batches.classes, y_pred = np.argmax(predictions2, axis = -1))\n",
    "cm_labels = ['normal', 'pneumonia']\n",
    "plot_confusion_matrix(cm = cm2, classes = cm_labels, title = 'Confusion Matrix')\n",
    "\n",
    "(360+112)/(360+112+122+30)"
   ]
  },
  {
   "cell_type": "markdown",
   "metadata": {},
   "source": [
    "# Third CNN model"
   ]
  },
  {
   "cell_type": "code",
   "execution_count": 25,
   "metadata": {},
   "outputs": [],
   "source": [
    "model3 = Sequential([\n",
    "    Conv2D(filters = 32, kernel_size = (3,3), activation = 'relu', padding = 'same', input_shape = (224,224,1)),\n",
    "    MaxPool2D(pool_size = (2,2), strides = 2),\n",
    "    Conv2D(filters = 64, kernel_size = (3,3), activation = 'relu', padding = 'same'),\n",
    "    MaxPool2D(pool_size = (2,2), strides = 2),\n",
    "    Conv2D(filters = 96, kernel_size = (3,3), activation = 'relu', padding = 'same'),\n",
    "    MaxPool2D(pool_size = (2,2), strides =2),\n",
    "    Flatten(),\n",
    "    Dense(units = 2, activation = 'softmax'),\n",
    "    \n",
    "])"
   ]
  },
  {
   "cell_type": "code",
   "execution_count": 26,
   "metadata": {},
   "outputs": [
    {
     "name": "stdout",
     "output_type": "stream",
     "text": [
      "Model: \"sequential_3\"\n",
      "_________________________________________________________________\n",
      "Layer (type)                 Output Shape              Param #   \n",
      "=================================================================\n",
      "conv2d_9 (Conv2D)            (None, 224, 224, 32)      320       \n",
      "_________________________________________________________________\n",
      "max_pooling2d_9 (MaxPooling2 (None, 112, 112, 32)      0         \n",
      "_________________________________________________________________\n",
      "conv2d_10 (Conv2D)           (None, 112, 112, 64)      18496     \n",
      "_________________________________________________________________\n",
      "max_pooling2d_10 (MaxPooling (None, 56, 56, 64)        0         \n",
      "_________________________________________________________________\n",
      "conv2d_11 (Conv2D)           (None, 56, 56, 96)        55392     \n",
      "_________________________________________________________________\n",
      "max_pooling2d_11 (MaxPooling (None, 28, 28, 96)        0         \n",
      "_________________________________________________________________\n",
      "flatten_3 (Flatten)          (None, 75264)             0         \n",
      "_________________________________________________________________\n",
      "dense_3 (Dense)              (None, 2)                 150530    \n",
      "=================================================================\n",
      "Total params: 224,738\n",
      "Trainable params: 224,738\n",
      "Non-trainable params: 0\n",
      "_________________________________________________________________\n"
     ]
    }
   ],
   "source": [
    "model3.compile(optimizer = Adam(lr = 0.0001), loss = 'categorical_crossentropy', metrics = ['accuracy'])\n",
    "model3.summary()"
   ]
  },
  {
   "cell_type": "code",
   "execution_count": 27,
   "metadata": {},
   "outputs": [
    {
     "name": "stdout",
     "output_type": "stream",
     "text": [
      "Epoch 1/20\n",
      "380/380 - 214s - loss: 0.8727 - accuracy: 0.8773 - val_loss: 0.1797 - val_accuracy: 0.9360\n",
      "Epoch 2/20\n",
      "380/380 - 219s - loss: 0.1222 - accuracy: 0.9559 - val_loss: 0.1610 - val_accuracy: 0.9544\n",
      "Epoch 3/20\n",
      "380/380 - 225s - loss: 0.0515 - accuracy: 0.9802 - val_loss: 0.1976 - val_accuracy: 0.9440\n",
      "Epoch 4/20\n",
      "380/380 - 227s - loss: 0.0234 - accuracy: 0.9902 - val_loss: 0.1329 - val_accuracy: 0.9624\n",
      "Epoch 5/20\n",
      "380/380 - 229s - loss: 0.0174 - accuracy: 0.9942 - val_loss: 0.1291 - val_accuracy: 0.9616\n",
      "Epoch 6/20\n",
      "380/380 - 231s - loss: 0.0097 - accuracy: 0.9982 - val_loss: 0.1416 - val_accuracy: 0.9648\n",
      "Epoch 7/20\n",
      "380/380 - 229s - loss: 0.0182 - accuracy: 0.9931 - val_loss: 0.1932 - val_accuracy: 0.9512\n",
      "Epoch 8/20\n",
      "380/380 - 230s - loss: 0.0545 - accuracy: 0.9778 - val_loss: 0.2019 - val_accuracy: 0.9648\n",
      "Epoch 9/20\n",
      "380/380 - 230s - loss: 0.0174 - accuracy: 0.9929 - val_loss: 0.1581 - val_accuracy: 0.9616\n",
      "Epoch 10/20\n",
      "380/380 - 231s - loss: 0.0043 - accuracy: 0.9995 - val_loss: 0.2142 - val_accuracy: 0.9648\n",
      "Epoch 11/20\n",
      "380/380 - 237s - loss: 0.0028 - accuracy: 0.9995 - val_loss: 0.1641 - val_accuracy: 0.9640\n",
      "Epoch 12/20\n",
      "380/380 - 250s - loss: 5.5109e-04 - accuracy: 1.0000 - val_loss: 0.1709 - val_accuracy: 0.9672\n",
      "Epoch 13/20\n",
      "380/380 - 274s - loss: 2.3422e-04 - accuracy: 1.0000 - val_loss: 0.1761 - val_accuracy: 0.9672\n",
      "Epoch 14/20\n",
      "380/380 - 298s - loss: 1.5660e-04 - accuracy: 1.0000 - val_loss: 0.1789 - val_accuracy: 0.9664\n",
      "Epoch 15/20\n",
      "380/380 - 288s - loss: 1.2493e-04 - accuracy: 1.0000 - val_loss: 0.1747 - val_accuracy: 0.9680\n",
      "Epoch 16/20\n",
      "380/380 - 258s - loss: 9.7744e-05 - accuracy: 1.0000 - val_loss: 0.1824 - val_accuracy: 0.9672\n",
      "Epoch 17/20\n",
      "380/380 - 236s - loss: 8.4585e-05 - accuracy: 1.0000 - val_loss: 0.1859 - val_accuracy: 0.9672\n",
      "Epoch 18/20\n",
      "380/380 - 239s - loss: 6.5665e-05 - accuracy: 1.0000 - val_loss: 0.1875 - val_accuracy: 0.9664\n",
      "Epoch 19/20\n",
      "380/380 - 247s - loss: 5.2925e-05 - accuracy: 1.0000 - val_loss: 0.1906 - val_accuracy: 0.9664\n",
      "Epoch 20/20\n",
      "380/380 - 264s - loss: 4.2669e-05 - accuracy: 1.0000 - val_loss: 0.1921 - val_accuracy: 0.9656\n"
     ]
    },
    {
     "data": {
      "text/plain": [
       "<tensorflow.python.keras.callbacks.History at 0x1d52caf4b50>"
      ]
     },
     "execution_count": 27,
     "metadata": {},
     "output_type": "execute_result"
    }
   ],
   "source": [
    "model3.fit(x= train_batches, validation_data = valid_batches, epochs = 20, verbose = 2)"
   ]
  },
  {
   "cell_type": "markdown",
   "metadata": {},
   "source": [
    "# Predicting model 3"
   ]
  },
  {
   "cell_type": "code",
   "execution_count": 29,
   "metadata": {},
   "outputs": [
    {
     "name": "stdout",
     "output_type": "stream",
     "text": [
      "Confusion matrix, without normalization\n",
      "[[ 92 142]\n",
      " [  7 383]]\n"
     ]
    },
    {
     "data": {
      "text/plain": [
       "0.7612179487179487"
      ]
     },
     "execution_count": 29,
     "metadata": {},
     "output_type": "execute_result"
    },
    {
     "data": {
      "image/png": "[encoded data removed]",
      "text/plain": [
       "<Figure size 432x288 with 2 Axes>"
      ]
     },
     "metadata": {
      "needs_background": "light"
     },
     "output_type": "display_data"
    }
   ],
   "source": [
    "predictions3 = model3.predict(x = test_batches, verbose = 0)\n",
    "cm3 = confusion_matrix(y_true = test_batches.classes, y_pred = np.argmax(predictions3, axis = -1))\n",
    "cm_labels = ['normal', 'pneumonia']\n",
    "plot_confusion_matrix(cm = cm3, classes = cm_labels, title = 'Confusion Matrix')\n",
    "\n",
    "(383+92)/(383+92+142+7) #76% accurate"
   ]
  }
 ],
 "metadata": {
  "kernelspec": {
   "display_name": "Python 3",
   "language": "python",
   "name": "python3"
  },
  "language_info": {
   "codemirror_mode": {
    "name": "ipython",
    "version": 3
   },
   "file_extension": ".py",
   "mimetype": "text/x-python",
   "name": "python",
   "nbconvert_exporter": "python",
   "pygments_lexer": "ipython3",
   "version": "3.8.3"
  }
 },
 "nbformat": 4,
 "nbformat_minor": 4
}
